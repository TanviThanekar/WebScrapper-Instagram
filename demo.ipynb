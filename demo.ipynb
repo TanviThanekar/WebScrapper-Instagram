{
 "cells": [
  {
   "cell_type": "code",
   "execution_count": 1,
   "metadata": {},
   "outputs": [],
   "source": [
    "import pandas as pd\n",
    "import urllib.request\n",
    "from collections import Counter\n",
    "from insta_scrape import recent_post_links, insta_link_details, insta_url_to_img"
   ]
  },
  {
   "cell_type": "markdown",
   "metadata": {},
   "source": [
    "### Corgis of Instagram!\n",
    "For a fun scraping project, I decided to pull the most recent posts from a bunch of prominent Corgis of Instagram to see their comparative performance and some of the hastags they used to help promote their posts. "
   ]
  },
  {
   "cell_type": "markdown",
   "metadata": {},
   "source": [
    "#### The functions being used do the following:\n",
    "* recent_post_links: scrapes the most recent Instagram posts and grabs their urls (number determined by input)\n",
    "* insta_link_details: takes the list of links and returns a list of dictionaries with details for each post, including:\n",
    "    - link - the original link of the post\n",
    "    - type - whether a video or photo\n",
    "    - likes/views - count of likes or views for item\n",
    "    - age - when posted (absolute time given for older posts, it goes by XX AGO for the for about a week\n",
    "    - comment - initial comment from poster\n",
    "    - hashtags - any hashtags, extracted from comment\n",
    "    - mentions - any mentions, extracted from comment"
   ]
  },
  {
   "cell_type": "markdown",
   "metadata": {},
   "source": [
    "#### Sneakers (135k followers)"
   ]
  },
  {
   "cell_type": "code",
   "execution_count": 2,
   "metadata": {},
   "outputs": [],
   "source": [
    "sneakers_urls = recent_post_links('sneakersthecorgi', post_count=10)"
   ]
  },
  {
   "cell_type": "markdown",
   "metadata": {},
   "source": [
    "Just validating in this first run that it is working:"
   ]
  },
  {
   "cell_type": "code",
   "execution_count": 3,
   "metadata": {},
   "outputs": [
    {
     "name": "stdout",
     "output_type": "stream",
     "text": [
      "['https://www.instagram.com/p/B4SgxvNg8zi/', 'https://www.instagram.com/p/B4QgOculBLy/', 'https://www.instagram.com/p/B4OoRuWAUjY/', 'https://www.instagram.com/p/B4LlXcygUBa/', 'https://www.instagram.com/p/B4IffPDA9IQ/', 'https://www.instagram.com/p/B4GKTA0gTPS/', 'https://www.instagram.com/p/B3-SvBvAcGh/', 'https://www.instagram.com/p/B38feDtAnuf/', 'https://www.instagram.com/p/B322tj1AqBN/', 'https://www.instagram.com/p/B3xGJZJAIm9/']\n"
     ]
    }
   ],
   "source": [
    "print(sneakers_urls)"
   ]
  },
  {
   "cell_type": "markdown",
   "metadata": {},
   "source": [
    "Great! Now we run our function to get link details, then throw in a dataframe to view better."
   ]
  },
  {
   "cell_type": "code",
   "execution_count": 4,
   "metadata": {},
   "outputs": [],
   "source": [
    "sneakers_details = [insta_link_details(url) for url in sneakers_urls]"
   ]
  },
  {
   "cell_type": "code",
   "execution_count": 7,
   "metadata": {},
   "outputs": [
    {
     "data": {
      "text/html": [
       "<div>\n",
       "<style scoped>\n",
       "    .dataframe tbody tr th:only-of-type {\n",
       "        vertical-align: middle;\n",
       "    }\n",
       "\n",
       "    .dataframe tbody tr th {\n",
       "        vertical-align: top;\n",
       "    }\n",
       "\n",
       "    .dataframe thead th {\n",
       "        text-align: right;\n",
       "    }\n",
       "</style>\n",
       "<table border=\"1\" class=\"dataframe\">\n",
       "  <thead>\n",
       "    <tr style=\"text-align: right;\">\n",
       "      <th></th>\n",
       "      <th>age</th>\n",
       "      <th>comment</th>\n",
       "      <th>hashtags</th>\n",
       "      <th>likes/views</th>\n",
       "      <th>link</th>\n",
       "      <th>mentions</th>\n",
       "      <th>type</th>\n",
       "    </tr>\n",
       "  </thead>\n",
       "  <tbody>\n",
       "    <tr>\n",
       "      <th>0</th>\n",
       "      <td>7 HOURS AGO</td>\n",
       "      <td>looking 4 sumpawdy 2 snorgle at the @queensbes...</td>\n",
       "      <td>#sneakersthecorgivideo</td>\n",
       "      <td>3,935</td>\n",
       "      <td>https://www.instagram.com/p/B4GKTA0gTPS/</td>\n",
       "      <td>[@queensbeststumpydogrescue, @socalcorgibeachday]</td>\n",
       "      <td>video</td>\n",
       "    </tr>\n",
       "    <tr>\n",
       "      <th>1</th>\n",
       "      <td>3 DAYS AGO</td>\n",
       "      <td>meet me at @socalcorgibeachday this saturday, ...</td>\n",
       "      <td>#sneakersthecorgi</td>\n",
       "      <td>2,505</td>\n",
       "      <td>https://www.instagram.com/p/B3-SvBvAcGh/</td>\n",
       "      <td>[@socalcorgibeachday, @queensbeststumpydogresc...</td>\n",
       "      <td>photo</td>\n",
       "    </tr>\n",
       "    <tr>\n",
       "      <th>2</th>\n",
       "      <td>4 DAYS AGO</td>\n",
       "      <td>deep thought: why do hoomins get to name their...</td>\n",
       "      <td>[#deepthoughts, #topdog, #chewypartner]</td>\n",
       "      <td>2,653</td>\n",
       "      <td>https://www.instagram.com/p/B38feDtAnuf/</td>\n",
       "      <td>@chewy</td>\n",
       "      <td>photo</td>\n",
       "    </tr>\n",
       "    <tr>\n",
       "      <th>3</th>\n",
       "      <td>6 DAYS AGO</td>\n",
       "      <td>tag the furiends you'd wanna cruise with 🐕🐕🐕🐕🐕...</td>\n",
       "      <td>[#hornblowerla, #hornblowercruises]</td>\n",
       "      <td>8,600</td>\n",
       "      <td>https://www.instagram.com/p/B322tj1AqBN/</td>\n",
       "      <td>@hornblower</td>\n",
       "      <td>video</td>\n",
       "    </tr>\n",
       "    <tr>\n",
       "      <th>4</th>\n",
       "      <td>OCTOBER 18</td>\n",
       "      <td>🍑\\n#sneakersthecorgi</td>\n",
       "      <td>#sneakersthecorgi</td>\n",
       "      <td>3,791</td>\n",
       "      <td>https://www.instagram.com/p/B3xGJZJAIm9/</td>\n",
       "      <td></td>\n",
       "      <td>photo</td>\n",
       "    </tr>\n",
       "  </tbody>\n",
       "</table>\n",
       "</div>"
      ],
      "text/plain": [
       "           age                                            comment  \\\n",
       "0  7 HOURS AGO  looking 4 sumpawdy 2 snorgle at the @queensbes...   \n",
       "1   3 DAYS AGO  meet me at @socalcorgibeachday this saturday, ...   \n",
       "2   4 DAYS AGO  deep thought: why do hoomins get to name their...   \n",
       "3   6 DAYS AGO  tag the furiends you'd wanna cruise with 🐕🐕🐕🐕🐕...   \n",
       "4   OCTOBER 18                               🍑\\n#sneakersthecorgi   \n",
       "\n",
       "                                  hashtags likes/views  \\\n",
       "0                   #sneakersthecorgivideo       3,935   \n",
       "1                        #sneakersthecorgi       2,505   \n",
       "2  [#deepthoughts, #topdog, #chewypartner]       2,653   \n",
       "3      [#hornblowerla, #hornblowercruises]       8,600   \n",
       "4                        #sneakersthecorgi       3,791   \n",
       "\n",
       "                                       link  \\\n",
       "0  https://www.instagram.com/p/B4GKTA0gTPS/   \n",
       "1  https://www.instagram.com/p/B3-SvBvAcGh/   \n",
       "2  https://www.instagram.com/p/B38feDtAnuf/   \n",
       "3  https://www.instagram.com/p/B322tj1AqBN/   \n",
       "4  https://www.instagram.com/p/B3xGJZJAIm9/   \n",
       "\n",
       "                                            mentions   type  \n",
       "0  [@queensbeststumpydogrescue, @socalcorgibeachday]  video  \n",
       "1  [@socalcorgibeachday, @queensbeststumpydogresc...  photo  \n",
       "2                                             @chewy  photo  \n",
       "3                                        @hornblower  video  \n",
       "4                                                     photo  "
      ]
     },
     "execution_count": 7,
     "metadata": {},
     "output_type": "execute_result"
    }
   ],
   "source": [
    "sneakers = pd.DataFrame(sneakers_details)\n",
    "sneakers.head()"
   ]
  },
  {
   "cell_type": "markdown",
   "metadata": {},
   "source": [
    "Just so we can preserve the results of this scrape and evaluate later, we can output to a csv:"
   ]
  },
  {
   "cell_type": "code",
   "execution_count": 8,
   "metadata": {},
   "outputs": [],
   "source": [
    "sneakers.to_csv('csv/sneakers_10_26_19.csv')"
   ]
  },
  {
   "cell_type": "markdown",
   "metadata": {},
   "source": [
    "Awesome! Now we run the same on others"
   ]
  },
  {
   "cell_type": "markdown",
   "metadata": {},
   "source": [
    "#### Ralph the Corgi (315k followers)"
   ]
  },
  {
   "cell_type": "code",
   "execution_count": 10,
   "metadata": {},
   "outputs": [],
   "source": [
    "ralph_urls = recent_post_links('ralphthecorgi', post_count=10)"
   ]
  },
  {
   "cell_type": "code",
   "execution_count": 11,
   "metadata": {},
   "outputs": [],
   "source": [
    "ralph_details = [insta_link_details(url) for url in ralph_urls]"
   ]
  },
  {
   "cell_type": "code",
   "execution_count": 12,
   "metadata": {},
   "outputs": [],
   "source": [
    "ralph = pd.DataFrame(ralph_details)\n",
    "ralph.to_csv('csv/ralph_10_26_19.csv')"
   ]
  },
  {
   "cell_type": "markdown",
   "metadata": {},
   "source": [
    "#### Geordi La Corgi (393k followers)"
   ]
  },
  {
   "cell_type": "code",
   "execution_count": 13,
   "metadata": {},
   "outputs": [],
   "source": [
    "lacorgi_urls = recent_post_links('lacorgi', post_count=10)"
   ]
  },
  {
   "cell_type": "code",
   "execution_count": 14,
   "metadata": {},
   "outputs": [],
   "source": [
    "lacorgi_details = [insta_link_details(url) for url in lacorgi_urls]"
   ]
  },
  {
   "cell_type": "code",
   "execution_count": 15,
   "metadata": {},
   "outputs": [],
   "source": [
    "lacorgi = pd.DataFrame(lacorgi_details)\n",
    "lacorgi.to_csv('csv/lacorgi_10_26_19.csv')"
   ]
  },
  {
   "cell_type": "markdown",
   "metadata": {},
   "source": [
    "#### Tibby (242k followers)"
   ]
  },
  {
   "cell_type": "code",
   "execution_count": 16,
   "metadata": {},
   "outputs": [],
   "source": [
    "tibby_urls = recent_post_links('tibbythecorgi', post_count=10)"
   ]
  },
  {
   "cell_type": "code",
   "execution_count": 17,
   "metadata": {},
   "outputs": [],
   "source": [
    "tibby_details = [insta_link_details(url) for url in tibby_urls] "
   ]
  },
  {
   "cell_type": "code",
   "execution_count": 18,
   "metadata": {},
   "outputs": [],
   "source": [
    "tibby = pd.DataFrame(tibby_details)\n",
    "tibby.to_csv('csv/tibby_10_26_19.csv')"
   ]
  },
  {
   "cell_type": "markdown",
   "metadata": {},
   "source": [
    "#### Winston, The White Corgi (232k followers)"
   ]
  },
  {
   "cell_type": "code",
   "execution_count": 19,
   "metadata": {},
   "outputs": [],
   "source": [
    "winston_urls = recent_post_links('winstonthewhitecorgi', post_count=10)"
   ]
  },
  {
   "cell_type": "code",
   "execution_count": 20,
   "metadata": {},
   "outputs": [],
   "source": [
    "winston_details = [insta_link_details(url) for url in winston_urls]"
   ]
  },
  {
   "cell_type": "code",
   "execution_count": 21,
   "metadata": {},
   "outputs": [],
   "source": [
    "winston = pd.DataFrame(winston_details)\n",
    "winston.to_csv('csv/winston_10_26_19.csv')"
   ]
  },
  {
   "cell_type": "markdown",
   "metadata": {},
   "source": [
    "### Bonus: How to extract the photo:"
   ]
  },
  {
   "cell_type": "code",
   "execution_count": 2,
   "metadata": {},
   "outputs": [],
   "source": [
    "insta_url_to_img('https://www.instagram.com/p/B4QgOculBLy/', filename='sneakers.jpg')"
   ]
  }
 ],
 "metadata": {
  "kernelspec": {
   "display_name": "Python 3",
   "language": "python",
   "name": "python3"
  },
  "language_info": {
   "codemirror_mode": {
    "name": "ipython",
    "version": 3
   },
   "file_extension": ".py",
   "mimetype": "text/x-python",
   "name": "python",
   "nbconvert_exporter": "python",
   "pygments_lexer": "ipython3",
   "version": "3.7.1"
  }
 },
 "nbformat": 4,
 "nbformat_minor": 2
}
